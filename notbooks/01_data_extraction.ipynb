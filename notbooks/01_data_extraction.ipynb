{
 "cells": [
  {
   "cell_type": "markdown",
   "metadata": {},
   "source": [
    "extracting files from rar file"
   ]
  },
  {
   "cell_type": "code",
   "execution_count": null,
   "metadata": {},
   "outputs": [],
   "source": [
    "import os\n",
    "import zipfile\n",
    "import rarfile\n",
    "\n",
    "# Define the path to the zip file and the output folder\n",
    "rar_file_path = r\"F:\\daneshkar\\project1\\202405.zip\"\n",
    "output_folder = 'extracted_rar_files'\n",
    "\n",
    "# Create the output folder if it doesn't exist\n",
    "if not os.path.exists(output_folder):\n",
    "    os.makedirs(output_folder)\n",
    "\n",
    "# Extract the main zip file to the output folder\n",
    "if rar_file_path.endswith('.zip'):\n",
    "    with zipfile.ZipFile(rar_file_path, 'r') as rf:\n",
    "        rf.extractall(output_folder)\n",
    "elif rar_file_path.endswith('.rar'):\n",
    "    with rarfile.RarFile(rar_file_path, 'r') as rf:\n",
    "        rf.extractall(output_folder)\n",
    "\n",
    "# Iterate through the extracted files\n",
    "for filename in os.listdir(output_folder):\n",
    "    file_path = os.path.join(output_folder, filename)\n",
    "    \n",
    "    # Check if the file is a zip or rar file\n",
    "    if filename.endswith('.zip'):\n",
    "        print(f'Extracting file {filename}')\n",
    "        # Extract the inner zip file into a subfolder\n",
    "        with zipfile.ZipFile(file_path, 'r') as rf_inner:\n",
    "            inner_output_folder = os.path.join(output_folder, filename[:-4])\n",
    "            rf_inner.extractall(inner_output_folder)\n",
    "    elif filename.endswith('.rar'):\n",
    "        print(f'Extracting file {filename}')\n",
    "        # Extract the inner rar file into a subfolder\n",
    "        with rarfile.RarFile(file_path, 'r') as rf_inner:\n",
    "            inner_output_folder = os.path.join(output_folder, filename[:-4])\n",
    "            rf_inner.extractall(inner_output_folder)\n"
   ]
  }
 ],
 "metadata": {
  "kernelspec": {
   "display_name": "Python 3",
   "language": "python",
   "name": "python3"
  },
  "language_info": {
   "name": "python",
   "version": "3.12.2"
  }
 },
 "nbformat": 4,
 "nbformat_minor": 2
}
