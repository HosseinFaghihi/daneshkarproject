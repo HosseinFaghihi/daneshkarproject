{
 "cells": [
  {
   "cell_type": "code",
   "execution_count": null,
   "metadata": {},
   "outputs": [],
   "source": [
    "import os\n",
    "import zipfile\n",
    "import pandas as pd\n",
    "from collections import defaultdict\n",
    "import re\n",
    "import matplotlib.pyplot as plt"
   ]
  },
  {
   "cell_type": "markdown",
   "metadata": {},
   "source": [
    "<h1>\n",
    "extracting data from a zip file\n",
    "</h1>"
   ]
  },
  {
   "cell_type": "code",
   "execution_count": null,
   "metadata": {},
   "outputs": [],
   "source": [
    "rar_file_path = r\"C:\\Users\\Amir\\Downloads\\202405.zip\" \n",
    "output_folder = 'extracted_rar_files'  \n",
    "\n",
    "if not os.path.exists(output_folder):\n",
    "    os.makedirs(output_folder)\n",
    "\n",
    "\n",
    "with zipfile.ZipFile(rar_file_path, 'r') as rf:\n",
    "    rf.extractall(output_folder)\n",
    "\n",
    "\n",
    "for filename in os.listdir(output_folder):\n",
    "    file_path = os.path.join(output_folder, filename)\n",
    "    if filename.endswith('.zip'):\n",
    "        print(f'extracting file {filename} ')\n",
    "        with zipfile.ZipFile(file_path, 'r') as rf_inner:\n",
    "            rf_inner.extractall(os.path.join(output_folder, filename[:-4])) "
   ]
  }
 ],
 "metadata": {
  "language_info": {
   "name": "python"
  }
 },
 "nbformat": 4,
 "nbformat_minor": 2
}
