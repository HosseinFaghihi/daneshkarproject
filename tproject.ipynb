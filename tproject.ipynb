{
 "cells": [
  {
   "cell_type": "markdown",
   "metadata": {},
   "source": [
    "libraries that we need"
   ]
  },
  {
   "cell_type": "code",
   "execution_count": 1,
   "metadata": {},
   "outputs": [],
   "source": [
    "import os\n",
    "import zipfile\n",
    "import pandas as pd\n",
    "from collections import defaultdict\n",
    "import re\n",
    "import matplotlib.pyplot as plt"
   ]
  },
  {
   "cell_type": "markdown",
   "metadata": {},
   "source": [
    "<h1>\n",
    "extracting data from a zip file\n",
    "</h1>"
   ]
  },
  {
   "cell_type": "code",
   "execution_count": null,
   "metadata": {},
   "outputs": [],
   "source": [
    "rar_file_path = r\"F:\\daneshkar\\project1\\202405.zip\" \n",
    "output_folder = 'extracted_rar_files'  \n",
    "\n",
    "if not os.path.exists(output_folder):\n",
    "    os.makedirs(output_folder)\n",
    "\n",
    "\n",
    "with zipfile.ZipFile(rar_file_path, 'r') as rf:\n",
    "    rf.extractall(output_folder)\n",
    "\n",
    "\n",
    "for filename in os.listdir(output_folder):\n",
    "    file_path = os.path.join(output_folder, filename)\n",
    "    if filename.endswith('.zip'):\n",
    "        print(f'extracting file {filename} ')\n",
    "        with zipfile.ZipFile(file_path, 'r') as rf_inner:\n",
    "            rf_inner.extractall(os.path.join(output_folder, filename[:-4])) "
   ]
  },
  {
   "cell_type": "markdown",
   "metadata": {},
   "source": [
    "read parquet files and create a dataframe and save them in csv files"
   ]
  },
  {
   "cell_type": "code",
   "execution_count": null,
   "metadata": {},
   "outputs": [],
   "source": [
    "import os\n",
    "import pandas as pd\n",
    "import re\n",
    "from collections import defaultdict\n",
    "\n",
    "def read_and_group_parquet_files(base_folder, start_date, end_date, folders_in_row):\n",
    "    data_frames = defaultdict(list)\n",
    "    group_names = [\n",
    "        'home_team_score',\n",
    "        'home_team',\n",
    "        'away_team',\n",
    "        'away_team_score',\n",
    "        'event',\n",
    "        'round',\n",
    "        'season',\n",
    "        'time',\n",
    "        'tournament',\n",
    "        'venue',\n",
    "        'odds',\n",
    "        'pbp',\n",
    "        'statistics',\n",
    "        'power',\n",
    "        'votes'\n",
    "    ]\n",
    "\n",
    "    # Regular expressions for away_team and away_team_score\n",
    "    away_team_pattern = re.compile(r'^away_team_')\n",
    "    away_team_score_pattern = re.compile(r'^away_team_score_')\n",
    "\n",
    "    for date in range(start_date, end_date + 1):\n",
    "        for folder in folders_in_row:\n",
    "            date_folder = os.path.join(base_folder, str(date), 'data', 'raw', folder)\n",
    "            print(f'Reading folder: {date_folder}')  # Monitor the current folder\n",
    "            if os.path.isdir(date_folder):\n",
    "                for file_name in os.listdir(date_folder):\n",
    "                    if file_name.endswith('.parquet'):\n",
    "                        matched_group = None\n",
    "                        # Check each group name if the filename starts with it\n",
    "                        if away_team_score_pattern.match(file_name):\n",
    "                            matched_group = 'away_team_score'\n",
    "                        elif away_team_pattern.match(file_name):\n",
    "                            matched_group = 'away_team'\n",
    "                        else:\n",
    "                            # Simple string matching for other group names\n",
    "                            for group_name in group_names:\n",
    "                                if file_name.startswith(group_name + '_'):\n",
    "                                    matched_group = group_name\n",
    "                                    break\n",
    "\n",
    "                        if matched_group:\n",
    "                            file_path = os.path.join(date_folder, file_name)\n",
    "                            df = pd.read_parquet(file_path)\n",
    "                            data_frames[matched_group].append(df)\n",
    "\n",
    "    # Concatenate DataFrames in each group and save to CSV\n",
    "    grouped_data_frames = {}\n",
    "    for group, dfs in data_frames.items():\n",
    "        if dfs:  # Check if the list of DataFrames is not empty\n",
    "            concatenated_df = pd.concat(dfs, ignore_index=True)\n",
    "            grouped_data_frames[group] = concatenated_df\n",
    "            # Save DataFrame to CSV\n",
    "            csv_file_path = os.path.join(base_folder, f'{group}.csv')\n",
    "            concatenated_df.to_csv(csv_file_path, index=False)\n",
    "            print(f'Saved {group} DataFrame to {csv_file_path}')\n",
    "\n",
    "    return grouped_data_frames\n",
    "\n",
    "# Example usage\n",
    "base_folder = r'F:\\daneshkar\\project1\\extracted_rar_files'\n",
    "start_date = 20240501\n",
    "end_date = 20240531\n",
    "folders_in_row = (\n",
    "    'raw_match_parquet',\n",
    "    'raw_odds_parquet',\n",
    "    'raw_point_by_point_parquet',\n",
    "    'raw_statistics_parquet',\n",
    "    'raw_tennis_power_parquet',\n",
    "    'raw_votes_parquet'\n",
    ")\n",
    "\n",
    "grouped_data_frames = read_and_group_parquet_files(base_folder, start_date, end_date, folders_in_row)\n",
    "\n",
    "# Display the groups and their DataFrames\n",
    "for group_name, df in grouped_data_frames.items():\n",
    "    print(f'Group: {group_name}')\n",
    "    # print(df.head())  # Print the first few rows of each DataFrame\n"
   ]
  },
  {
   "cell_type": "markdown",
   "metadata": {},
   "source": [
    "read csv files"
   ]
  },
  {
   "cell_type": "code",
   "execution_count": 5,
   "metadata": {},
   "outputs": [
    {
     "name": "stdout",
     "output_type": "stream",
     "text": [
      "Successfully read home_team_score.csv\n",
      "Successfully read home_team.csv\n",
      "Successfully read away_team.csv\n",
      "Successfully read away_team_score.csv\n",
      "Successfully read event.csv\n",
      "Successfully read round.csv\n",
      "Successfully read season.csv\n",
      "Successfully read time.csv\n",
      "Successfully read tournament.csv\n",
      "Successfully read venue.csv\n",
      "Successfully read odds.csv\n",
      "Successfully read pbp.csv\n",
      "Successfully read statistics.csv\n",
      "Successfully read power.csv\n",
      "Successfully read votes.csv\n",
      "Group: home_team_score\n",
      "Group: home_team\n",
      "Group: away_team\n",
      "Group: away_team_score\n",
      "Group: event\n",
      "Group: round\n",
      "Group: season\n",
      "Group: time\n",
      "Group: tournament\n",
      "Group: venue\n",
      "Group: odds\n",
      "Group: pbp\n",
      "Group: statistics\n",
      "Group: power\n",
      "Group: votes\n"
     ]
    }
   ],
   "source": [
    "# Define the directory and group names\n",
    "base_folder = r'F:\\daneshkar\\project1\\extracted_rar_files'\n",
    "group_names = [\n",
    "    'home_team_score',\n",
    "    'home_team',\n",
    "    'away_team',\n",
    "    'away_team_score',\n",
    "    'event',\n",
    "    'round',\n",
    "    'season',\n",
    "    'time',\n",
    "    'tournament',\n",
    "    'venue',\n",
    "    'odds',\n",
    "    'pbp',\n",
    "    'statistics',\n",
    "    'power',\n",
    "    'votes'\n",
    "]\n",
    "\n",
    "# Initialize a dictionary to store the DataFrames\n",
    "grouped_data_frames = {}\n",
    "\n",
    "# Read each CSV file into a DataFrame and store it in the dictionary\n",
    "for group_name in group_names:\n",
    "    csv_file_path = os.path.join(base_folder, f'{group_name}.csv')\n",
    "    if os.path.exists(csv_file_path):\n",
    "        df = pd.read_csv(csv_file_path)\n",
    "        grouped_data_frames[group_name] = df\n",
    "        print(f'Successfully read {group_name}.csv')\n",
    "    else:\n",
    "        print(f'File {group_name}.csv not found')\n",
    "\n",
    "# Display the DataFrames (or perform further operations)\n",
    "for group_name, df in grouped_data_frames.items():\n",
    "    print(f'Group: {group_name}')\n",
    "    # print(df.head())  # Print the first few rows of each DataFrame\n"
   ]
  },
  {
   "cell_type": "markdown",
   "metadata": {},
   "source": [
    "check the shape of dataframes"
   ]
  },
  {
   "cell_type": "code",
   "execution_count": 27,
   "metadata": {},
   "outputs": [
    {
     "name": "stdout",
     "output_type": "stream",
     "text": [
      "Group: home_team_score, Shape: (19676, 15)\n",
      "Group: home_team, Shape: (14090, 19)\n",
      "Group: away_team, Shape: (12955, 19)\n",
      "Group: away_team_score, Shape: (19676, 14)\n",
      "Group: event, Shape: (19676, 10)\n",
      "Group: round, Shape: (12087, 5)\n",
      "Group: season, Shape: (19676, 4)\n",
      "Group: time, Shape: (19676, 8)\n",
      "Group: tournament, Shape: (19676, 16)\n",
      "Group: venue, Shape: (19589, 5)\n",
      "Group: odds, Shape: (33740, 11)\n",
      "Group: pbp, Shape: (1467013, 14)\n",
      "Group: statistics, Shape: (794368, 13)\n",
      "Group: power, Shape: (269694, 5)\n",
      "Group: votes, Shape: (19677, 3)\n"
     ]
    }
   ],
   "source": [
    "# Display the shape of each DataFrame\n",
    "for group_name, df in grouped_data_frames.items():\n",
    "    print(f'Group: {group_name}, Shape: {df.shape}')"
   ]
  },
  {
   "cell_type": "markdown",
   "metadata": {},
   "source": [
    "1. How many tennis players are included in the dataset?"
   ]
  },
  {
   "cell_type": "code",
   "execution_count": 4,
   "metadata": {},
   "outputs": [
    {
     "name": "stdout",
     "output_type": "stream",
     "text": [
      "The number of unique tennis players in the dataset is: 2353\n"
     ]
    }
   ],
   "source": [
    "home_team = grouped_data_frames['home_team']\n",
    "away_team = grouped_data_frames['away_team']\n",
    "\n",
    "# Combine home and away team info into one DataFrame\n",
    "players_info = pd.concat([\n",
    "    home_team[['player_id', 'full_name']],\n",
    "    away_team[['player_id', 'full_name']]\n",
    "]).drop_duplicates().reset_index(drop=True)\n",
    "number_of_tennis_players=len(players_info)\n",
    "\n",
    "print(f'The number of unique tennis players in the dataset is: {number_of_tennis_players}')"
   ]
  },
  {
   "cell_type": "markdown",
   "metadata": {},
   "source": [
    "<h1>\n",
    "2.What is the average height of the players?\n",
    "</h1>"
   ]
  },
  {
   "cell_type": "code",
   "execution_count": 28,
   "metadata": {},
   "outputs": [
    {
     "name": "stdout",
     "output_type": "stream",
     "text": [
      "The average height of female players is 1.7321576763485476 \n",
      "The average height of male players is 1.8423621227887617\n",
      "The average height of players is 1.7891325324733314\n"
     ]
    }
   ],
   "source": [
    "df_cleaned_away_team = grouped_data_frames['away_team'].dropna(subset=['gender'])\n",
    "df_cleaned_home_team = grouped_data_frames['home_team'].dropna(subset=['gender'])\n",
    "\n",
    "#We remove the rows that have missing values in the gender column.\n",
    "\n",
    "df_concat_gender=pd.concat([df_cleaned_home_team[['player_id','full_name','gender','height']],df_cleaned_away_team[['player_id','full_name','gender','height']]]).drop_duplicates().reset_index(drop=True)\n",
    "\n",
    "mean_height_male_with_null = df_concat_gender[df_concat_gender['gender'] == 'M']['height'].mean()\n",
    "mean_height_female_with_null = df_concat_gender[df_concat_gender['gender'] == 'F']['height'].mean()\n",
    "\n",
    "num_missing = df_concat_gender['gender'].isna().sum()\n",
    "\n",
    "def fill_height(row):\n",
    "    if pd.isna(row['height']):\n",
    "        if row['gender'] == 'M':\n",
    "            return mean_height_male_with_null\n",
    "        elif row['gender'] == 'F':\n",
    "            return mean_height_female_with_null\n",
    "    return row['height']\n",
    "\n",
    "\n",
    "df_concat_gender['height'] = df_concat_gender.apply(fill_height, axis=1)\n",
    "\n",
    "mean_height_male = df_concat_gender[df_concat_gender['gender'] == 'M']['height'].mean()\n",
    "mean_height_female = df_concat_gender[df_concat_gender['gender'] == 'F']['height'].mean()\n",
    "mean_height_players=df_concat_gender['height'].mean()\n",
    "\n",
    "\n",
    "print(f'The average height of female players is {mean_height_female} ')\n",
    "print(f'The average height of male players is {mean_height_male}')\n",
    "print(f'The average height of players is {mean_height_players}')"
   ]
  },
  {
   "cell_type": "markdown",
   "metadata": {},
   "source": [
    "3.Which player has the highest number of wins?"
   ]
  },
  {
   "cell_type": "code",
   "execution_count": 6,
   "metadata": {},
   "outputs": [
    {
     "name": "stdout",
     "output_type": "stream",
     "text": [
      "Player with the highest number of wins:Darderi L. with 27 wins\n"
     ]
    }
   ],
   "source": [
    "dffi=grouped_data_frames['pbp']\n",
    "last_row_per_id = dffi.groupby('match_id').last().reset_index()\n",
    "def determine_winner(row):\n",
    "    home_has_A = 'A' in str(row['home_point'])\n",
    "    away_has_A = 'A' in str(row['away_point'])\n",
    "\n",
    "    if home_has_A and not away_has_A:\n",
    "        return 0  \n",
    "    elif away_has_A and not home_has_A:\n",
    "        return 1  \n",
    "    elif '40' in [row['home_point'], row['away_point']]:\n",
    "        return 0 if row['home_point'] == '40' else 1  \n",
    "    else:\n",
    "        return None\n",
    "\n",
    "\n",
    "last_row_per_id['Winner'] = last_row_per_id.apply(determine_winner, axis=1)\n",
    "df_home_new=grouped_data_frames['home_team']\n",
    "df_home_new['h/a']=0\n",
    "df_away_new=grouped_data_frames['away_team']\n",
    "df_away_new['h/a']=1\n",
    "df_home_away=pd.concat([df_home_new,df_away_new])\n",
    "df_merge_team_pbp=pd.merge(df_home_away,last_row_per_id[['Winner','match_id']] ,on='match_id',how='inner')\n",
    "df_merge_team_pbp=df_merge_team_pbp[['match_id','name', 'gender','current_rank','h/a','Winner']].sort_values(by='match_id')\n",
    "\n",
    "\n",
    "wins_per_player = df_merge_team_pbp.groupby(['name','gender'])['Winner'].sum().reset_index(name='wins')\n",
    "wins_per_player=wins_per_player.sort_values(by='wins',ascending=False)\n",
    "print(f'Player with the highest number of wins:{wins_per_player.iloc[0,0]} with {wins_per_player.iloc[0,2]} wins')"
   ]
  },
  {
   "cell_type": "markdown",
   "metadata": {},
   "source": [
    "<h1>\n",
    "4.What is the longest match recorded in terms of duration?\n",
    "</h1>"
   ]
  },
  {
   "cell_type": "code",
   "execution_count": 7,
   "metadata": {},
   "outputs": [
    {
     "data": {
      "text/plain": [
       "match_id                                     12381286\n",
       "Match recorded                               7.843333\n",
       "current_period_start_timestamp           1717093795.0\n",
       "datetime                          2024-05-30 18:29:55\n",
       "Name: 19304, dtype: object"
      ]
     },
     "execution_count": 7,
     "metadata": {},
     "output_type": "execute_result"
    }
   ],
   "source": [
    "df_time=grouped_data_frames['time']\n",
    "df_time\n",
    "df_time[df_time['current_period_start_timestamp'].isna()]\n",
    "df_time['datetime'] = pd.to_datetime(df_time['current_period_start_timestamp'], unit='s')\n",
    "columns_to_check = df_time.columns[1:6]\n",
    "df_time_filtered = df_time.dropna(subset=columns_to_check, how='all')\n",
    "\n",
    "match_recorded_column_data = df_time.iloc[:, 1:6].sum(axis=1)\n",
    "column_name = 'Match recorded'\n",
    "\n",
    "\n",
    "if column_name not in df_time.columns:\n",
    "    df_time.insert(loc=6, column=column_name, value=match_recorded_column_data)\n",
    "\n",
    "\n",
    "\n",
    "df_time['Match recorded']=df_time['Match recorded']/3600\n",
    "condition = match_recorded_column_data <= 39600\n",
    "#The longest tennis set lasted 11 hours, so we don't consider data beyond this timeframe.\n",
    "if condition.any():\n",
    "   \n",
    "    max_row = df_time.loc[condition].iloc[:, 0:5].sum(axis=1).idxmax()\n",
    "    df_time = df_time.drop(columns=df_time.columns[1:6])\n",
    "    result_row = df_time.loc[max_row]\n",
    "\n",
    "result_row"
   ]
  },
  {
   "cell_type": "markdown",
   "metadata": {},
   "source": [
    "5.How many sets are typically played in a tennis match?"
   ]
  },
  {
   "cell_type": "code",
   "execution_count": 7,
   "metadata": {},
   "outputs": [
    {
     "name": "stdout",
     "output_type": "stream",
     "text": [
      "Typically, 2 sets are played in a tennis match.\n"
     ]
    }
   ],
   "source": [
    "home_team_score_df = grouped_data_frames['home_team_score']\n",
    "# Select columns period_1 to period_5\n",
    "period_columns = ['period_1', 'period_2', 'period_3', 'period_4', 'period_5']\n",
    "\n",
    "# Count non-null values across rows (axis=1)\n",
    "home_team_score_df['filled_columns_count'] = home_team_score_df[period_columns].count(axis=1)\n",
    "\n",
    "# Find the mode of filled_sets_count\n",
    "mode_sets_count = home_team_score_df['filled_columns_count'].mode().values[0]\n",
    "\n",
    "print(f\"Typically, {mode_sets_count} sets are played in a tennis match.\")"
   ]
  },
  {
   "cell_type": "markdown",
   "metadata": {},
   "source": [
    "<h1>\n",
    "6.Which country has produced the most successful tennis players?\n",
    "</h1>"
   ]
  },
  {
   "cell_type": "code",
   "execution_count": 8,
   "metadata": {},
   "outputs": [
    {
     "data": {
      "image/png": "[encoded data removed]",
      "text/plain": [
       "<Figure size 640x480 with 1 Axes>"
      ]
     },
     "metadata": {},
     "output_type": "display_data"
    },
    {
     "name": "stdout",
     "output_type": "stream",
     "text": [
      "USA , Russia\n"
     ]
    }
   ],
   "source": [
    "df_all_rank=pd.concat([grouped_data_frames['home_team'],grouped_data_frames['away_team']])\n",
    "df_rank = df_all_rank[(df_all_rank['current_rank'] <= 20) ]\n",
    "df_rank_w=df_rank.drop(columns=['match_id','user_count','current_prize','total_prize'])\n",
    "df_rank_duplicates=df_rank_w.drop_duplicates()\n",
    "sorted_df = df_rank_duplicates.sort_values(by='current_rank', ascending=True)\n",
    "\n",
    "df_unique_rank =  sorted_df.groupby('name').first().reset_index()\n",
    "\n",
    "value_counts=df_unique_rank['country'].value_counts()\n",
    "value_counts.plot(kind='bar',color='green')\n",
    "plt.yticks(range(int(value_counts.max()) + 1))\n",
    "plt.show()\n",
    "max_index = value_counts.idxmax()\n",
    "countries_with_max_value = value_counts[value_counts == value_counts[max_index]].index.tolist()\n",
    "\n",
    "print(f\"{', '.join(map(str, countries_with_max_value[:-1]))} , {countries_with_max_value[-1]}\")"
   ]
  },
  {
   "cell_type": "markdown",
   "metadata": {},
   "source": [
    "7.What is the average number of aces per match?"
   ]
  },
  {
   "cell_type": "markdown",
   "metadata": {},
   "source": [
    "first we check the symmetry of data by the histogram of data to chose between mean and median."
   ]
  },
  {
   "cell_type": "code",
   "execution_count": 9,
   "metadata": {},
   "outputs": [
    {
     "data": {
      "image/png": "[encoded data removed]",
      "text/plain": [
       "<Figure size 1000x600 with 1 Axes>"
      ]
     },
     "metadata": {},
     "output_type": "display_data"
    },
    {
     "name": "stdout",
     "output_type": "stream",
     "text": [
      "Mean of total_stat: 4.05\n",
      "Median of total_stat: 3.00\n"
     ]
    }
   ],
   "source": [
    "\n",
    "statistics_df = grouped_data_frames['statistics']\n",
    "\n",
    "# Filter statistics dataframe for rows where statistic_name is 'aces' and period is 'ALL'\n",
    "aces_df = statistics_df[(statistics_df['statistic_name'] == 'aces') & (statistics_df['period'] == 'ALL')].copy()\n",
    "\n",
    "# Convert 'home_stat' and 'away_stat' to numeric if they are not already\n",
    "aces_df.loc[:, 'home_stat'] = pd.to_numeric(aces_df['home_stat'], errors='coerce')\n",
    "aces_df.loc[:, 'away_stat'] = pd.to_numeric(aces_df['away_stat'], errors='coerce')\n",
    "\n",
    "# Calculate the total_stat as the sum of home_stat and away_stat\n",
    "aces_df['total_stat'] = aces_df['home_stat'] + aces_df['away_stat']\n",
    "\n",
    "# Plot histogram to check distribution\n",
    "plt.figure(figsize=(10, 6))\n",
    "plt.hist(aces_df['total_stat'].dropna(), bins=30, edgecolor='k', alpha=0.7)\n",
    "plt.title('Histogram of Total Stat for \"aces\" and Period=\"ALL\"', fontsize=14)\n",
    "plt.xlabel('Total Stat', fontsize=12)\n",
    "plt.ylabel('Frequency', fontsize=12)\n",
    "plt.grid(True)\n",
    "plt.show()\n",
    "\n",
    "# Calculate mean and median\n",
    "mean_total_stat = aces_df['total_stat'].mean()\n",
    "median_total_stat = aces_df['total_stat'].median()\n",
    "\n",
    "# Print mean and median\n",
    "print(f\"Mean of total_stat: {mean_total_stat:.2f}\")\n",
    "print(f\"Median of total_stat: {median_total_stat:.2f}\")\n"
   ]
  },
  {
   "cell_type": "markdown",
   "metadata": {},
   "source": [
    "boxplot can help identify skewness and outliers"
   ]
  },
  {
   "cell_type": "code",
   "execution_count": 20,
   "metadata": {},
   "outputs": [
    {
     "data": {
      "image/png": "[encoded data removed]",
      "text/plain": [
       "<Figure size 800x600 with 1 Axes>"
      ]
     },
     "metadata": {},
     "output_type": "display_data"
    }
   ],
   "source": [
    "plt.figure(figsize=(8, 6))\n",
    "plt.boxplot(aces_df['total_stat'], vert=False, patch_artist=True, widths=0.7)\n",
    "plt.title('Boxplot of total_stat for \"aces\" and period=\"ALL\"', fontsize=14)\n",
    "plt.xlabel('Total Stat', fontsize=12)\n",
    "plt.yticks([], [])\n",
    "plt.grid(True)\n",
    "plt.show()"
   ]
  },
  {
   "cell_type": "markdown",
   "metadata": {},
   "source": [
    "calculate the average number of aces per match"
   ]
  },
  {
   "cell_type": "code",
   "execution_count": 10,
   "metadata": {},
   "outputs": [
    {
     "name": "stdout",
     "output_type": "stream",
     "text": [
      "the average number of aces per match is: 3.00\n"
     ]
    }
   ],
   "source": [
    "# Calculate the median of total_stat\n",
    "median_total_stat = aces_df['total_stat'].median()\n",
    "\n",
    "# Print the mean of total_stat\n",
    "print(f\"the average number of aces per match is: {median_total_stat:.2f}\")\n"
   ]
  },
  {
   "cell_type": "markdown",
   "metadata": {},
   "source": [
    "the matches that have more that 13 ace"
   ]
  },
  {
   "cell_type": "code",
   "execution_count": 11,
   "metadata": {},
   "outputs": [
    {
     "data": {
      "text/plain": [
       "match_id      530\n",
       "total_stat    530\n",
       "dtype: int64"
      ]
     },
     "execution_count": 11,
     "metadata": {},
     "output_type": "execute_result"
    }
   ],
   "source": [
    "aces_df[['match_id','total_stat']].loc[aces_df['total_stat']>13].count()"
   ]
  },
  {
   "cell_type": "markdown",
   "metadata": {},
   "source": [
    "<h1>\n",
    "8.Is there a difference in the number of double faults based on gender?\n",
    "</h1>"
   ]
  },
  {
   "cell_type": "code",
   "execution_count": 12,
   "metadata": {},
   "outputs": [
    {
     "name": "stdout",
     "output_type": "stream",
     "text": [
      "The avrage doubles faults of men is 5.503915246430217\n",
      "the avrage doubles faults of women is 7.221408589764686\n"
     ]
    }
   ],
   "source": [
    "statistics_df = grouped_data_frames['statistics']\n",
    "home1_team=grouped_data_frames['home_team']\n",
    "\n",
    "# Filter statistics dataframe for rows where statistic_name is 'double_faults' and period is 'ALL'\n",
    "doubles_faults_df = statistics_df[(statistics_df['statistic_name'] == 'double_faults') & (statistics_df['period'] == 'ALL')].copy()\n",
    "\n",
    "# Convert 'home_stat' and 'away_stat' to numeric if they are not already\n",
    "doubles_faults_df.loc[:, 'home_stat'] = pd.to_numeric(doubles_faults_df['home_stat'], errors='coerce')\n",
    "doubles_faults_df.loc[:, 'away_stat'] = pd.to_numeric(doubles_faults_df['away_stat'], errors='coerce')\n",
    "\n",
    "# Calculate the total_stat as the sum of home_stat and away_stat\n",
    "doubles_faults_df['total_stat'] = doubles_faults_df['home_stat'] + doubles_faults_df['away_stat']\n",
    "# players gender\n",
    "player_gender=home1_team[['match_id','gender']]\n",
    "doubles_faults=doubles_faults_df.merge(player_gender[['match_id', 'gender']], left_on='match_id', right_on='match_id', how='left', suffixes=('', '_home'))\n",
    "doubles_faults_women=doubles_faults[doubles_faults['gender']=='F']\n",
    "doubles_faults_men=doubles_faults[doubles_faults['gender']=='M']\n",
    "\n",
    "doubles_faults_men=doubles_faults_men['total_stat'].mean()\n",
    "doubles_faults_women=doubles_faults_women['total_stat'].mean()\n",
    "\n",
    "print(f'The avrage doubles faults of men is {doubles_faults_men}')\n",
    "print(f'the avrage doubles faults of women is {doubles_faults_women}')"
   ]
  },
  {
   "cell_type": "markdown",
   "metadata": {},
   "source": [
    "9.Which player has won the most tournaments in a single month?"
   ]
  },
  {
   "cell_type": "code",
   "execution_count": 218,
   "metadata": {},
   "outputs": [
    {
     "name": "stdout",
     "output_type": "stream",
     "text": [
      "The player who won the most tournaments is Kuramochi, Miho with 7 tournaments.\n"
     ]
    }
   ],
   "source": [
    "\n",
    "statistics = grouped_data_frames['statistics']\n",
    "home_team = grouped_data_frames['home_team']\n",
    "away_team = grouped_data_frames['away_team']\n",
    "tournament = grouped_data_frames['tournament']\n",
    "\n",
    "# Filter statistics DataFrame for points totals\n",
    "filtered_statistics = statistics[\n",
    "    (statistics['statistic_category_name'] == 'points') &\n",
    "    (statistics['statistic_name'] == 'total')\n",
    "][['match_id', 'home_stat', 'away_stat']]\n",
    "\n",
    "# Determine the winner based on home_stat and away_stat\n",
    "def determine_winner(row):\n",
    "    if row['home_stat'] > row['away_stat']:\n",
    "        return \"1\"\n",
    "    elif row['away_stat'] > row['home_stat']:\n",
    "        return \"2\"\n",
    "\n",
    "# Apply the function to determine the winner for each match\n",
    "filtered_statistics['winner'] = filtered_statistics.apply(determine_winner, axis=1)\n",
    "\n",
    "# Merge with home_team and away_team DataFrames to get player IDs\n",
    "merged_teams = pd.merge(home_team[['match_id', 'player_id', 'full_name']],\n",
    "                        away_team[['match_id', 'player_id', 'full_name']],\n",
    "                        on='match_id', suffixes=('_home', '_away')).drop_duplicates()\n",
    "\n",
    "# Merge filtered_statistics with merged_teams to get winner player IDs\n",
    "win = pd.merge(filtered_statistics[['match_id', 'winner']],\n",
    "               merged_teams[['match_id', 'player_id_home','full_name_home', 'player_id_away','full_name_away']],\n",
    "               on='match_id')\n",
    "\n",
    "# Initialize a new column 'winning_player_id' in win DataFrame\n",
    "win['winning_player_id'] = None\n",
    "\n",
    "# Loop through each row to assign winning_player_id based on the winner column\n",
    "for index, row in win.iterrows():\n",
    "    if row['winner'] == \"1\":\n",
    "        win.at[index, 'winning_player_id'] = row['player_id_home']\n",
    "        win.at[index, 'winning_player_name'] = row['full_name_home']\n",
    "    elif row['winner'] == \"2\":\n",
    "        win.at[index, 'winning_player_id'] = row['player_id_away']\n",
    "        win.at[index, 'winning_player_name'] = row['full_name_away']\n",
    "\n",
    "win_tournoment =pd.merge(win[['match_id','winning_player_id','winning_player_name']],\n",
    "                         tournament[['match_id','tournament_id']],\n",
    "                         on='match_id').drop_duplicates()\n",
    "\n",
    "\n",
    "\n",
    "# Group by tournament_id and winning_player_id, and count the number of wins\n",
    "player_wins_per_tournament = win_tournoment.groupby(['tournament_id', 'winning_player_id', 'winning_player_name']).size().reset_index(name='wins')\n",
    "\n",
    "# Group by winning_player_id and winning_player_name, and count unique tournaments won\n",
    "player_tournaments_won = player_wins_per_tournament.groupby(['winning_player_id', 'winning_player_name'])['tournament_id'].nunique().reset_index(name='tournaments_won')\n",
    "\n",
    "# Find the player with the maximum tournaments won\n",
    "max_tournaments_player = player_tournaments_won.loc[player_tournaments_won['tournaments_won'].idxmax()]\n",
    "\n",
    "# Display the player with the maximum tournaments won\n",
    "print(f\"The player who won the most tournaments is {max_tournaments_player['winning_player_name']} \"\n",
    "      f\"with {max_tournaments_player['tournaments_won']} tournaments.\")\n"
   ]
  },
  {
   "cell_type": "code",
   "execution_count": 219,
   "metadata": {},
   "outputs": [
    {
     "name": "stdout",
     "output_type": "stream",
     "text": [
      "The player who won the most tournaments (by sum of wins) is Uchijima, Moyuka with 17 total wins.\n"
     ]
    }
   ],
   "source": [
    "# Sum the number of wins per player per tournament\n",
    "player_wins_per_tournament_sum = player_wins_per_tournament.groupby(['winning_player_id', 'winning_player_name'])['wins'].sum().reset_index(name='total_wins')\n",
    "\n",
    "# Find the player with the maximum total wins\n",
    "max_wins_player = player_wins_per_tournament_sum.loc[player_wins_per_tournament_sum['total_wins'].idxmax()]\n",
    "\n",
    "# Display the player with the maximum total wins\n",
    "print(f\"The player who won the most tournaments (by sum of wins) is {max_wins_player['winning_player_name']} \"\n",
    "      f\"with {max_wins_player['total_wins']} total wins.\")\n"
   ]
  },
  {
   "cell_type": "markdown",
   "metadata": {},
   "source": [
    "<h1>\n",
    "10.Is there a correlation between a player's height and their ranking?\n",
    "</h1>"
   ]
  },
  {
   "cell_type": "code",
   "execution_count": 37,
   "metadata": {},
   "outputs": [
    {
     "name": "stdout",
     "output_type": "stream",
     "text": [
      "The correlation between height and ranking is: 0.08609144624811947\n",
      "This correlation is categorized as: Very weak or no correlation\n"
     ]
    }
   ],
   "source": [
    "\n",
    "# Combine away_team and home_team DataFrames\n",
    "df_concat_team = pd.concat([grouped_data_frames['away_team'], grouped_data_frames['home_team']])\n",
    "\n",
    "# Drop unnecessary columns and duplicates\n",
    "df_concat_team = df_concat_team.drop(columns=['match_id', 'user_count', 'current_prize', 'total_prize'])\n",
    "df_concat_team = df_concat_team.drop_duplicates()\n",
    "\n",
    "# Group by player name and keep the first occurrence for each player\n",
    "df_concat_team = df_concat_team.groupby('name').first().reset_index()\n",
    "\n",
    "# Calculate the Pearson correlation coefficient\n",
    "correlation = df_concat_team['height'].corr(df_concat_team['current_rank'])\n",
    "\n",
    "# Categorize the correlation strength\n",
    "if correlation >= 0.7 or correlation <= -0.7:\n",
    "    correlation_category = \"Strong correlation\"\n",
    "elif 0.4 <= correlation < 0.7 or -0.4 >= correlation > -0.7:\n",
    "    correlation_category = \"Moderate correlation\"\n",
    "elif 0.1 <= correlation < 0.4 or -0.1 >= correlation > -0.4:\n",
    "    correlation_category = \"Weak correlation\"\n",
    "else:\n",
    "    correlation_category = \"Very weak or no correlation\"\n",
    "\n",
    "print(f\"The correlation between height and ranking is: {correlation}\")\n",
    "print(f\"This correlation is categorized as: {correlation_category}\")\n"
   ]
  },
  {
   "cell_type": "markdown",
   "metadata": {},
   "source": [
    "11.What is the average duration of matches?"
   ]
  },
  {
   "cell_type": "code",
   "execution_count": 14,
   "metadata": {},
   "outputs": [
    {
     "name": "stdout",
     "output_type": "stream",
     "text": [
      "The average duration of matches is 84.11333011452191 minutes.\n"
     ]
    }
   ],
   "source": [
    "\n",
    "time_df = grouped_data_frames['time']\n",
    "\n",
    "# Ensure all period columns are treated as numeric, and NaNs are handled\n",
    "time_df = time_df[['match_id', 'period_1', 'period_2', 'period_3', 'period_4', 'period_5']].apply(pd.to_numeric, errors='coerce')\n",
    "\n",
    "# Calculate the total duration for each match by summing the periods\n",
    "time_df['total_duration'] = time_df[['period_1', 'period_2', 'period_3', 'period_4', 'period_5']].sum(axis=1, skipna=True)\n",
    "\n",
    "# Calculate the average duration\n",
    "average_duration = time_df['total_duration'].mean()\n",
    "\n",
    "print(f\"The average duration of matches is {average_duration/60} minutes.\")\n",
    "\n"
   ]
  },
  {
   "cell_type": "markdown",
   "metadata": {},
   "source": [
    "<h1>\n",
    "12-What is the average number of games per set in men's matches compared to women's matches?\n",
    "</h1>"
   ]
  },
  {
   "cell_type": "code",
   "execution_count": 186,
   "metadata": {},
   "outputs": [
    {
     "name": "stdout",
     "output_type": "stream",
     "text": [
      "Average total games won by gender:\n",
      "gender\n",
      "F    20.512120\n",
      "M    21.599032\n",
      "Name: total_games_won, dtype: float64\n"
     ]
    }
   ],
   "source": [
    "statistics = grouped_data_frames['statistics']\n",
    "home_team = grouped_data_frames['home_team']\n",
    "away_team = grouped_data_frames['away_team']\n",
    "\n",
    "# Filter statistics DataFrame for points totals\n",
    "filtered1_statistics = statistics[\n",
    "    (statistics['statistic_category_name'] == 'games') &\n",
    "    (statistics['statistic_name'] == 'total_won')\n",
    "][['match_id', 'home_stat', 'away_stat']]\n",
    "\n",
    "# Convert columns to numeric (if they are stored as strings)\n",
    "filtered1_statistics['home_stat'] = pd.to_numeric(filtered1_statistics['home_stat'], errors='coerce')\n",
    "filtered1_statistics['away_stat'] = pd.to_numeric(filtered1_statistics['away_stat'], errors='coerce')\n",
    "\n",
    "# Create a new column that sums home_stat and away_stat\n",
    "filtered1_statistics['total_games_won'] = filtered1_statistics['home_stat'] + filtered1_statistics['away_stat']\n",
    "\n",
    "# Merge home_team with filtered1_statistics on match_id\n",
    "merged_data = pd.merge(filtered1_statistics, home_team[['match_id', 'gender']], on='match_id', how='left')\n",
    "\n",
    "# Calculate average total_games_won by gender\n",
    "average_games_won = merged_data.groupby('gender')['total_games_won'].mean()\n",
    "\n",
    "print(\"Average total games won by gender:\")\n",
    "print(average_games_won)"
   ]
  },
  {
   "cell_type": "markdown",
   "metadata": {},
   "source": [
    "13.What is the distribution of left-handed versus right-handed players?"
   ]
  },
  {
   "cell_type": "code",
   "execution_count": 12,
   "metadata": {},
   "outputs": [
    {
     "name": "stdout",
     "output_type": "stream",
     "text": [
      "Unique values in 'plays' column:\n",
      "['left-handed' 'right-handed' nan 'ambidextrous']\n",
      "Number of missing or NaN values in 'plays' column: 1323\n",
      "Initial Distribution of Left-handed vs Right-handed players:\n",
      "plays\n",
      "unknown         1323\n",
      "right-handed     908\n",
      "left-handed      120\n",
      "ambidextrous       1\n",
      "Name: count, dtype: int64\n",
      "Known values distribution for imputation:\n",
      "plays\n",
      "right-handed    0.882410\n",
      "left-handed     0.116618\n",
      "ambidextrous    0.000972\n",
      "Name: proportion, dtype: float64\n",
      "Distribution of Left-handed vs Right-handed players after imputation:\n",
      "plays\n",
      "right-handed    2081\n",
      "left-handed      270\n",
      "ambidextrous       1\n",
      "Name: count, dtype: int64\n"
     ]
    },
    {
     "data": {
      "image/png": "[encoded data removed]",
      "text/plain": [
       "<Figure size 1000x800 with 1 Axes>"
      ]
     },
     "metadata": {},
     "output_type": "display_data"
    }
   ],
   "source": [
    "import pandas as pd\n",
    "import numpy as np\n",
    "import matplotlib.pyplot as plt\n",
    "\n",
    "# Assuming grouped_data_frames is your dictionary containing all the dataframes\n",
    "home_team_df = grouped_data_frames['home_team']\n",
    "away_team_df = grouped_data_frames['away_team']\n",
    "\n",
    "# Combine the relevant data to get a comprehensive list of players\n",
    "combined_players_df = pd.concat([home_team_df[['player_id', 'plays']], away_team_df[['player_id', 'plays']]])\n",
    "\n",
    "# Drop duplicate players if they appear in both home_team and away_team\n",
    "players_df = combined_players_df.drop_duplicates(subset=['player_id']).copy()\n",
    "\n",
    "# Check the unique values in the 'plays' column\n",
    "unique_plays = players_df['plays'].unique()\n",
    "print(\"Unique values in 'plays' column:\")\n",
    "print(unique_plays)\n",
    "\n",
    "# Check for missing or NaN values\n",
    "missing_plays = players_df['plays'].isna().sum()\n",
    "print(f\"Number of missing or NaN values in 'plays' column: {missing_plays}\")\n",
    "\n",
    "# Fill or handle missing values (assuming 'unknown' for missing entries)\n",
    "players_df['plays'] = players_df['plays'].fillna('unknown')\n",
    "\n",
    "# Calculate the distribution of left-handed vs right-handed players including 'unknown'\n",
    "handedness_distribution = players_df['plays'].value_counts()\n",
    "\n",
    "# Print the distribution\n",
    "print(\"Initial Distribution of Left-handed vs Right-handed players:\")\n",
    "print(handedness_distribution)\n",
    "\n",
    "# Impute 'unknown' values based on the distribution of known values\n",
    "known_values_distribution = players_df['plays'][players_df['plays'] != 'unknown'].value_counts(normalize=True)\n",
    "print(\"Known values distribution for imputation:\")\n",
    "print(known_values_distribution)\n",
    "\n",
    "# Create a mapping function to replace 'unknown' values\n",
    "def impute_unknown(row):\n",
    "    if row == 'unknown':\n",
    "        return np.random.choice(known_values_distribution.index, p=known_values_distribution.values)\n",
    "    return row\n",
    "\n",
    "# Apply the mapping function\n",
    "players_df['plays'] = players_df['plays'].apply(impute_unknown)\n",
    "\n",
    "# Calculate the distribution after imputation\n",
    "handedness_distribution_after_imputation = players_df['plays'].value_counts()\n",
    "\n",
    "# Print the distribution after imputation\n",
    "print(\"Distribution of Left-handed vs Right-handed players after imputation:\")\n",
    "print(handedness_distribution_after_imputation)\n",
    "\n",
    "# Plot the distribution using a pie chart\n",
    "explode = [0.1 if handedness == \"ambidextrous\" else 0 for handedness in handedness_distribution_after_imputation.index]\n",
    "colors = ['#ff9999', '#66b3ff', '#99ff99', '#ffcc99']  # Optional: Define custom colors\n",
    "\n",
    "plt.figure(figsize=(10, 8))\n",
    "handedness_distribution_after_imputation.plot(kind='pie', \n",
    "                                              autopct='%1.1f%%', \n",
    "                                              startangle=90, \n",
    "                                              explode=explode, \n",
    "                                              colors=colors, \n",
    "                                              wedgeprops={'edgecolor': 'black'})\n",
    "\n",
    "plt.title('Distribution of Left-handed vs Right-handed Players', fontsize=16)\n",
    "plt.ylabel('')  # Hide the y-label\n",
    "plt.legend(title='Handedness', bbox_to_anchor=(1.05, 1), loc='upper left')\n",
    "plt.tight_layout()\n",
    "plt.show()"
   ]
  },
  {
   "cell_type": "markdown",
   "metadata": {},
   "source": [
    "<h1>\n",
    "14.What is the most common type of surface used in tournaments?\n",
    "</h1>"
   ]
  },
  {
   "cell_type": "code",
   "execution_count": 16,
   "metadata": {},
   "outputs": [
    {
     "data": {
      "text/plain": [
       "'Red clay'"
      ]
     },
     "execution_count": 16,
     "metadata": {},
     "output_type": "execute_result"
    }
   ],
   "source": [
    "grouped_data_frames['tournament']['ground_type'].value_counts().idxmax()\n"
   ]
  },
  {
   "cell_type": "markdown",
   "metadata": {},
   "source": [
    "15.How many distinct countries are represented in the dataset?"
   ]
  },
  {
   "cell_type": "code",
   "execution_count": 188,
   "metadata": {},
   "outputs": [
    {
     "name": "stdout",
     "output_type": "stream",
     "text": [
      "Number of distinct countries represented in the dataset: 97\n"
     ]
    }
   ],
   "source": [
    "\n",
    "home_team_df = grouped_data_frames['home_team']\n",
    "away_team_df = grouped_data_frames['away_team']\n",
    "\n",
    "# Combine the country data from both home_team and away_team dataframes\n",
    "countries = pd.concat([home_team_df['country'], away_team_df['country']])\n",
    "\n",
    "# Find the number of distinct countries\n",
    "distinct_countries = countries.nunique()\n",
    "\n",
    "print(f\"Number of distinct countries represented in the dataset: {distinct_countries}\")\n"
   ]
  },
  {
   "cell_type": "markdown",
   "metadata": {},
   "source": [
    "<h1>\n",
    "16.Which player has the highest winning percentage against top 10 ranked opponents?\n",
    "</h1>"
   ]
  },
  {
   "cell_type": "code",
   "execution_count": 35,
   "metadata": {},
   "outputs": [
    {
     "name": "stdout",
     "output_type": "stream",
     "text": [
      "Player: Griekspoor T. | Winning Percentage: 100.00% | Matches Played: 3\n",
      "Player: Osaka N. | Winning Percentage: 100.00% | Matches Played: 3\n",
      "Player: Ruud C. | Winning Percentage: 100.00% | Matches Played: 3\n"
     ]
    }
   ],
   "source": [
    "import pandas as pd\n",
    "\n",
    "# Assuming grouped_data_frames contains the required dataframes\n",
    "dffi = grouped_data_frames['pbp']\n",
    "last_row_per_id = dffi.groupby('match_id').last().reset_index()\n",
    "\n",
    "def determine_winner(row):\n",
    "    home_has_A = 'A' in str(row['home_point'])\n",
    "    away_has_A = 'A' in str(row['away_point'])\n",
    "\n",
    "    if home_has_A and not away_has_A:\n",
    "        return 0  \n",
    "    elif away_has_A and not home_has_A:\n",
    "        return 1  \n",
    "    elif '40' in [row['home_point'], row['away_point']]:\n",
    "        return 0 if row['home_point'] == '40' else 1  \n",
    "    else:\n",
    "        return None\n",
    "\n",
    "last_row_per_id['Winner'] = last_row_per_id.apply(determine_winner, axis=1)\n",
    "\n",
    "df_home_new = grouped_data_frames['home_team']\n",
    "df_home_new['h/a'] = 0\n",
    "df_away_new = grouped_data_frames['away_team']\n",
    "df_away_new['h/a'] = 1\n",
    "\n",
    "df_home_away = pd.concat([df_home_new, df_away_new])\n",
    "df_merge_team_pbp = pd.merge(df_home_away, last_row_per_id[['Winner', 'match_id']], on='match_id', how='inner')\n",
    "df_merge_team_pbp = df_merge_team_pbp[['match_id', 'name', 'gender', 'current_rank', 'h/a', 'Winner']].sort_values(by='match_id')\n",
    "\n",
    "# Add opponent's rank information\n",
    "df_home_away['opponent_rank'] = df_merge_team_pbp.groupby('match_id')['current_rank'].shift(-1)\n",
    "df_merge_team_pbp['opponent_rank'] = df_merge_team_pbp.groupby('match_id')['current_rank'].shift(1)\n",
    "\n",
    "# Filter matches against top 10 ranked opponents\n",
    "df_top10_matches = df_merge_team_pbp[df_merge_team_pbp['opponent_rank'] <= 10]\n",
    "\n",
    "# Calculate wins and matches played against top 10 ranked opponents\n",
    "wins_top10 = df_top10_matches.groupby('name').agg({'Winner': 'sum', 'match_id': 'count'}).rename(columns={'match_id': 'matches_played'}).reset_index()\n",
    "\n",
    "# Calculate winning percentage\n",
    "wins_top10['winning_percentage'] = wins_top10['Winner'] / wins_top10['matches_played'] * 100\n",
    "\n",
    "\n",
    "# Sort by winning_percentage and matches_played\n",
    "wins_top10_sorted = wins_top10.sort_values(by=['winning_percentage', 'matches_played'], ascending=[False, False])\n",
    "\n",
    "# Print the top 3 players\n",
    "top_3_winning_percentage = wins_top10_sorted.head(3)\n",
    "\n",
    "for index, row in top_3_winning_percentage.iterrows():\n",
    "    print(f\"Player: {row['name']} | Winning Percentage: {row['winning_percentage']:.2f}% | Matches Played: {row['matches_played']}\")\n"
   ]
  },
  {
   "cell_type": "code",
   "execution_count": 18,
   "metadata": {},
   "outputs": [
    {
     "data": {
      "text/html": [
       "<div>\n",
       "<style scoped>\n",
       "    .dataframe tbody tr th:only-of-type {\n",
       "        vertical-align: middle;\n",
       "    }\n",
       "\n",
       "    .dataframe tbody tr th {\n",
       "        vertical-align: top;\n",
       "    }\n",
       "\n",
       "    .dataframe thead th {\n",
       "        text-align: right;\n",
       "    }\n",
       "</style>\n",
       "<table border=\"1\" class=\"dataframe\">\n",
       "  <thead>\n",
       "    <tr style=\"text-align: right;\">\n",
       "      <th></th>\n",
       "      <th>name</th>\n",
       "      <th>wincounts</th>\n",
       "      <th>matchcount</th>\n",
       "      <th>win percentage</th>\n",
       "    </tr>\n",
       "  </thead>\n",
       "  <tbody>\n",
       "    <tr>\n",
       "      <th>0</th>\n",
       "      <td>Volynets K.</td>\n",
       "      <td>6</td>\n",
       "      <td>6</td>\n",
       "      <td>100.0</td>\n",
       "    </tr>\n",
       "    <tr>\n",
       "      <th>1</th>\n",
       "      <td>De Jong J.</td>\n",
       "      <td>2</td>\n",
       "      <td>2</td>\n",
       "      <td>100.0</td>\n",
       "    </tr>\n",
       "    <tr>\n",
       "      <th>2</th>\n",
       "      <td>Tabilo A.</td>\n",
       "      <td>6</td>\n",
       "      <td>6</td>\n",
       "      <td>100.0</td>\n",
       "    </tr>\n",
       "    <tr>\n",
       "      <th>3</th>\n",
       "      <td>Arnaldi M.</td>\n",
       "      <td>2</td>\n",
       "      <td>2</td>\n",
       "      <td>100.0</td>\n",
       "    </tr>\n",
       "    <tr>\n",
       "      <th>4</th>\n",
       "      <td>Eubanks C.</td>\n",
       "      <td>2</td>\n",
       "      <td>2</td>\n",
       "      <td>100.0</td>\n",
       "    </tr>\n",
       "    <tr>\n",
       "      <th>5</th>\n",
       "      <td>Herbert P.</td>\n",
       "      <td>2</td>\n",
       "      <td>2</td>\n",
       "      <td>100.0</td>\n",
       "    </tr>\n",
       "    <tr>\n",
       "      <th>6</th>\n",
       "      <td>Cobolli F.</td>\n",
       "      <td>2</td>\n",
       "      <td>2</td>\n",
       "      <td>100.0</td>\n",
       "    </tr>\n",
       "    <tr>\n",
       "      <th>7</th>\n",
       "      <td>Bogdan A.</td>\n",
       "      <td>2</td>\n",
       "      <td>2</td>\n",
       "      <td>100.0</td>\n",
       "    </tr>\n",
       "    <tr>\n",
       "      <th>8</th>\n",
       "      <td>Rogers S.</td>\n",
       "      <td>2</td>\n",
       "      <td>2</td>\n",
       "      <td>100.0</td>\n",
       "    </tr>\n",
       "    <tr>\n",
       "      <th>9</th>\n",
       "      <td>Azarenka V.</td>\n",
       "      <td>2</td>\n",
       "      <td>2</td>\n",
       "      <td>100.0</td>\n",
       "    </tr>\n",
       "    <tr>\n",
       "      <th>10</th>\n",
       "      <td>Sorribes Tormo S.</td>\n",
       "      <td>2</td>\n",
       "      <td>2</td>\n",
       "      <td>100.0</td>\n",
       "    </tr>\n",
       "    <tr>\n",
       "      <th>11</th>\n",
       "      <td>Kenin S.</td>\n",
       "      <td>2</td>\n",
       "      <td>2</td>\n",
       "      <td>100.0</td>\n",
       "    </tr>\n",
       "    <tr>\n",
       "      <th>12</th>\n",
       "      <td>Cîrstea S.</td>\n",
       "      <td>2</td>\n",
       "      <td>2</td>\n",
       "      <td>100.0</td>\n",
       "    </tr>\n",
       "    <tr>\n",
       "      <th>13</th>\n",
       "      <td>Norrie C.</td>\n",
       "      <td>2</td>\n",
       "      <td>2</td>\n",
       "      <td>100.0</td>\n",
       "    </tr>\n",
       "    <tr>\n",
       "      <th>14</th>\n",
       "      <td>Moutet C.</td>\n",
       "      <td>2</td>\n",
       "      <td>2</td>\n",
       "      <td>100.0</td>\n",
       "    </tr>\n",
       "    <tr>\n",
       "      <th>15</th>\n",
       "      <td>Darderi L.</td>\n",
       "      <td>2</td>\n",
       "      <td>2</td>\n",
       "      <td>100.0</td>\n",
       "    </tr>\n",
       "    <tr>\n",
       "      <th>16</th>\n",
       "      <td>Fernandez L.</td>\n",
       "      <td>1</td>\n",
       "      <td>1</td>\n",
       "      <td>100.0</td>\n",
       "    </tr>\n",
       "    <tr>\n",
       "      <th>17</th>\n",
       "      <td>Kotov P.</td>\n",
       "      <td>2</td>\n",
       "      <td>2</td>\n",
       "      <td>100.0</td>\n",
       "    </tr>\n",
       "    <tr>\n",
       "      <th>18</th>\n",
       "      <td>Minnen G.</td>\n",
       "      <td>2</td>\n",
       "      <td>2</td>\n",
       "      <td>100.0</td>\n",
       "    </tr>\n",
       "    <tr>\n",
       "      <th>19</th>\n",
       "      <td>Gasquet R.</td>\n",
       "      <td>2</td>\n",
       "      <td>2</td>\n",
       "      <td>100.0</td>\n",
       "    </tr>\n",
       "    <tr>\n",
       "      <th>20</th>\n",
       "      <td>Atmane T.</td>\n",
       "      <td>3</td>\n",
       "      <td>3</td>\n",
       "      <td>100.0</td>\n",
       "    </tr>\n",
       "    <tr>\n",
       "      <th>21</th>\n",
       "      <td>Gracheva V.</td>\n",
       "      <td>5</td>\n",
       "      <td>5</td>\n",
       "      <td>100.0</td>\n",
       "    </tr>\n",
       "    <tr>\n",
       "      <th>22</th>\n",
       "      <td>Yastremska D.</td>\n",
       "      <td>4</td>\n",
       "      <td>4</td>\n",
       "      <td>100.0</td>\n",
       "    </tr>\n",
       "    <tr>\n",
       "      <th>23</th>\n",
       "      <td>Nakashima B.</td>\n",
       "      <td>4</td>\n",
       "      <td>4</td>\n",
       "      <td>100.0</td>\n",
       "    </tr>\n",
       "    <tr>\n",
       "      <th>24</th>\n",
       "      <td>Carballés Baena R.</td>\n",
       "      <td>3</td>\n",
       "      <td>3</td>\n",
       "      <td>100.0</td>\n",
       "    </tr>\n",
       "    <tr>\n",
       "      <th>25</th>\n",
       "      <td>Šrámková R.</td>\n",
       "      <td>3</td>\n",
       "      <td>3</td>\n",
       "      <td>100.0</td>\n",
       "    </tr>\n",
       "    <tr>\n",
       "      <th>26</th>\n",
       "      <td>Wolf J.J.</td>\n",
       "      <td>3</td>\n",
       "      <td>3</td>\n",
       "      <td>100.0</td>\n",
       "    </tr>\n",
       "    <tr>\n",
       "      <th>27</th>\n",
       "      <td>Nosková L.</td>\n",
       "      <td>3</td>\n",
       "      <td>3</td>\n",
       "      <td>100.0</td>\n",
       "    </tr>\n",
       "    <tr>\n",
       "      <th>28</th>\n",
       "      <td>Draper J.</td>\n",
       "      <td>3</td>\n",
       "      <td>3</td>\n",
       "      <td>100.0</td>\n",
       "    </tr>\n",
       "    <tr>\n",
       "      <th>29</th>\n",
       "      <td>Griekspoor T.</td>\n",
       "      <td>3</td>\n",
       "      <td>3</td>\n",
       "      <td>100.0</td>\n",
       "    </tr>\n",
       "    <tr>\n",
       "      <th>30</th>\n",
       "      <td>Zidanšek T.</td>\n",
       "      <td>2</td>\n",
       "      <td>2</td>\n",
       "      <td>100.0</td>\n",
       "    </tr>\n",
       "    <tr>\n",
       "      <th>31</th>\n",
       "      <td>Cerundolo F.</td>\n",
       "      <td>1</td>\n",
       "      <td>1</td>\n",
       "      <td>100.0</td>\n",
       "    </tr>\n",
       "  </tbody>\n",
       "</table>\n",
       "</div>"
      ],
      "text/plain": [
       "                  name  wincounts  matchcount  win percentage\n",
       "0          Volynets K.          6           6           100.0\n",
       "1           De Jong J.          2           2           100.0\n",
       "2            Tabilo A.          6           6           100.0\n",
       "3           Arnaldi M.          2           2           100.0\n",
       "4           Eubanks C.          2           2           100.0\n",
       "5           Herbert P.          2           2           100.0\n",
       "6           Cobolli F.          2           2           100.0\n",
       "7            Bogdan A.          2           2           100.0\n",
       "8            Rogers S.          2           2           100.0\n",
       "9          Azarenka V.          2           2           100.0\n",
       "10   Sorribes Tormo S.          2           2           100.0\n",
       "11            Kenin S.          2           2           100.0\n",
       "12          Cîrstea S.          2           2           100.0\n",
       "13           Norrie C.          2           2           100.0\n",
       "14           Moutet C.          2           2           100.0\n",
       "15          Darderi L.          2           2           100.0\n",
       "16        Fernandez L.          1           1           100.0\n",
       "17            Kotov P.          2           2           100.0\n",
       "18           Minnen G.          2           2           100.0\n",
       "19          Gasquet R.          2           2           100.0\n",
       "20           Atmane T.          3           3           100.0\n",
       "21         Gracheva V.          5           5           100.0\n",
       "22       Yastremska D.          4           4           100.0\n",
       "23        Nakashima B.          4           4           100.0\n",
       "24  Carballés Baena R.          3           3           100.0\n",
       "25         Šrámková R.          3           3           100.0\n",
       "26           Wolf J.J.          3           3           100.0\n",
       "27          Nosková L.          3           3           100.0\n",
       "28           Draper J.          3           3           100.0\n",
       "29       Griekspoor T.          3           3           100.0\n",
       "30         Zidanšek T.          2           2           100.0\n",
       "31        Cerundolo F.          1           1           100.0"
      ]
     },
     "execution_count": 18,
     "metadata": {},
     "output_type": "execute_result"
    }
   ],
   "source": [
    "dffi=grouped_data_frames['pbp']\n",
    "last_row_per_id = dffi.groupby('match_id').last().reset_index()\n",
    "def determine_winner(row):\n",
    "    home_has_A = 'A' in str(row['home_point'])\n",
    "    away_has_A = 'A' in str(row['away_point'])\n",
    "\n",
    "    if home_has_A and not away_has_A:\n",
    "        return 0  \n",
    "    elif away_has_A and not home_has_A:\n",
    "        return 1  \n",
    "    elif '40' in [row['home_point'], row['away_point']]:\n",
    "        return 0 if row['home_point'] == '40' else 1  \n",
    "    else:\n",
    "        return None\n",
    "\n",
    "\n",
    "last_row_per_id['Winner'] = last_row_per_id.apply(determine_winner, axis=1)\n",
    "df_home_new=grouped_data_frames['home_team']\n",
    "df_home_new['h/a']=0\n",
    "df_away_new=grouped_data_frames['away_team']\n",
    "df_away_new['h/a']=1\n",
    "df_home_away=pd.concat([df_home_new,df_away_new])\n",
    "df_merge_team_pbp=pd.merge(df_home_away,last_row_per_id[['Winner','match_id']] ,on='match_id',how='inner')\n",
    "df_merge_team_pbp=df_merge_team_pbp[['match_id','name', 'gender','current_rank','h/a','Winner']].sort_values(by='match_id')\n",
    "grouped = df_merge_team_pbp.groupby('match_id').filter(lambda x: (x['current_rank'] <= 10).any()).reset_index(drop=True)\n",
    "filterede_df = grouped[(grouped['h/a'] == grouped['Winner']) & (grouped['current_rank'] > 10)]\n",
    "count=grouped[(grouped['current_rank'] > 10)].reset_index(drop=True)\n",
    "\n",
    "\n",
    "count_df1 = filterede_df['name'].value_counts().reset_index()\n",
    "count_df1.columns = ['name', 'wincounts']\n",
    "\n",
    "count_df2 = count['name'].value_counts().reset_index()\n",
    "count_df2.columns=['name','matchcount']\n",
    "\n",
    "\n",
    "df_count_all=pd.merge(count_df1,count_df2,on='name',how='inner').reset_index(drop=True)\n",
    "df_count_all['win percentage']=df_count_all['wincounts']*100/df_count_all['matchcount']\n",
    "df_count_all=df_count_all.sort_values(by='win percentage',ascending=False)\n",
    "df_count_all[df_count_all['win percentage']==100].reset_index(drop=True)"
   ]
  },
  {
   "cell_type": "markdown",
   "metadata": {},
   "source": [
    "17.What is the average number of breaks of serve per match?"
   ]
  },
  {
   "cell_type": "code",
   "execution_count": 17,
   "metadata": {},
   "outputs": [
    {
     "name": "stdout",
     "output_type": "stream",
     "text": [
      "Typically, the median number of sets played in a tennis match is 0.0.\n"
     ]
    }
   ],
   "source": [
    "import pandas as pd\n",
    "\n",
    "# Assuming grouped_data_frames is your dictionary containing all the dataframes\n",
    "home_team_score_df = grouped_data_frames['home_team_score']\n",
    "\n",
    "# Select columns period_1_tie_break to period_5_tie_break\n",
    "period_tie_break_columns = ['period_1_tie_break', 'period_2_tie_break', 'period_3_tie_break', 'period_4_tie_break', 'period_5_tie_break']\n",
    "\n",
    "# Count non-null values across rows (axis=1)\n",
    "home_team_score_df['filled_columns_count'] = home_team_score_df[period_tie_break_columns].count(axis=1)\n",
    "\n",
    "# Find the median of filled_columns_count\n",
    "median_sets_count = home_team_score_df['filled_columns_count'].median()\n",
    "\n",
    "print(f\"Typically, the median number of sets played in a tennis match is {median_sets_count}.\")\n"
   ]
  },
  {
   "cell_type": "markdown",
   "metadata": {},
   "source": [
    "to see better :"
   ]
  },
  {
   "cell_type": "code",
   "execution_count": 35,
   "metadata": {},
   "outputs": [],
   "source": [
    "import matplotlib.pyplot as plt\n",
    "\n",
    "# Create a bar plot for the number of break in tennis matches\n",
    "sets_count = home_team_score_df['filled_columns_count'].value_counts().sort_index()\n",
    "\n",
    "plt.figure(figsize=(10, 5))\n",
    "sets_count.plot(kind='bar')\n",
    "plt.title('Bar Plot of Number of breaks in Tennis Matches')\n",
    "plt.xlabel('Number of Sets')\n",
    "plt.ylabel('Frequency')\n",
    "plt.xticks(rotation=0)\n",
    "plt.show()\n"
   ]
  },
  {
   "cell_type": "markdown",
   "metadata": {},
   "source": [
    "<h1>\n",
    "18.What is Percentage of wins among the top 25 ranked players?\n",
    "</h1>"
   ]
  },
  {
   "cell_type": "code",
   "execution_count": null,
   "metadata": {},
   "outputs": [],
   "source": [
    "\n",
    "player_stats = df_merge_team_pbp.groupby(['name','current_rank']).agg(\n",
    "   \n",
    "    wins=('Winner', lambda x: (x == 0).sum()) ,\n",
    "    games_played=('match_id', 'count')\n",
    ").reset_index()\n",
    "\n",
    "player_stats['win_percentage'] = (player_stats['wins'] / player_stats['games_played']) * 100\n",
    "\n",
    "best_25_player_stats = player_stats[player_stats['current_rank'] <= 25].sort_values(by='current_rank').reset_index(drop=True)\n",
    "best_25_player_stats"
   ]
  },
  {
   "cell_type": "markdown",
   "metadata": {},
   "source": [
    "<h1>\n",
    "19.Who wins the final game in each tournaments?\n",
    "</h1>"
   ]
  },
  {
   "cell_type": "code",
   "execution_count": null,
   "metadata": {},
   "outputs": [],
   "source": [
    "final_matches = grouped_data_frames['round'][grouped_data_frames['round']['name'] == 'Final'].reset_index(drop=True)\n",
    "final_matches=final_matches.drop_duplicates()\n",
    "tournament_without_duplicates=grouped_data_frames['tournament'].drop_duplicates()\n",
    "merged_tournament_final_matches = pd.merge(final_matches[['match_id','round_id','name']], tournament_without_duplicates[['match_id', 'tournament_name']], on='match_id', how='inner').drop_duplicates()\n",
    "merged_tournament_final_matches\n",
    "\n",
    "merged_df_pbp_tournament = pd.merge(df_merge_team_pbp[['match_id','name','Winner','h/a','gender']], merged_tournament_final_matches, on='match_id', how='inner')\n",
    "filtered_df_pbp_tournament = merged_df_pbp_tournament[merged_df_pbp_tournament['Winner'] == merged_df_pbp_tournament['h/a']].drop_duplicates().reset_index(drop=True)\n",
    "\n",
    "filtered_df_pbp_tournament"
   ]
  }
 ],
 "metadata": {
  "kernelspec": {
   "display_name": "Python 3",
   "language": "python",
   "name": "python3"
  },
  "language_info": {
   "codemirror_mode": {
    "name": "ipython",
    "version": 3
   },
   "file_extension": ".py",
   "mimetype": "text/x-python",
   "name": "python",
   "nbconvert_exporter": "python",
   "pygments_lexer": "ipython3",
   "version": "3.12.2"
  }
 },
 "nbformat": 4,
 "nbformat_minor": 2
}
