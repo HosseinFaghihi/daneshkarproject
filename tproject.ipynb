{
 "cells": [
  {
   "cell_type": "markdown",
   "metadata": {},
   "source": [
    "libraries that we need"
   ]
  },
  {
   "cell_type": "code",
   "execution_count": 1,
   "metadata": {},
   "outputs": [],
   "source": [
    "import os\n",
    "import zipfile\n",
    "import pandas as pd\n",
    "from collections import defaultdict\n",
    "import re\n",
    "import matplotlib.pyplot as plt"
   ]
  },
  {
   "cell_type": "markdown",
   "metadata": {},
   "source": [
    "read parquet files and create a dataframe and save them in csv files"
   ]
  },
  {
   "cell_type": "code",
   "execution_count": null,
   "metadata": {},
   "outputs": [],
   "source": [
    "import os\n",
    "import pandas as pd\n",
    "import re\n",
    "from collections import defaultdict\n",
    "\n",
    "def read_and_group_parquet_files(base_folder, start_date, end_date, folders_in_row):\n",
    "    data_frames = defaultdict(list)\n",
    "    group_names = [\n",
    "        'home_team_score',\n",
    "        'home_team',\n",
    "        'away_team',\n",
    "        'away_team_score',\n",
    "        'event',\n",
    "        'round',\n",
    "        'season',\n",
    "        'time',\n",
    "        'tournament',\n",
    "        'venue',\n",
    "        'odds',\n",
    "        'pbp',\n",
    "        'statistics',\n",
    "        'power',\n",
    "        'votes'\n",
    "    ]\n",
    "\n",
    "    # Regular expressions for away_team and away_team_score\n",
    "    away_team_pattern = re.compile(r'^away_team_')\n",
    "    away_team_score_pattern = re.compile(r'^away_team_score_')\n",
    "\n",
    "    for date in range(start_date, end_date + 1):\n",
    "        for folder in folders_in_row:\n",
    "            date_folder = os.path.join(base_folder, str(date), 'data', 'raw', folder)\n",
    "            print(f'Reading folder: {date_folder}')  # Monitor the current folder\n",
    "            if os.path.isdir(date_folder):\n",
    "                for file_name in os.listdir(date_folder):\n",
    "                    if file_name.endswith('.parquet'):\n",
    "                        matched_group = None\n",
    "                        # Check each group name if the filename starts with it\n",
    "                        if away_team_score_pattern.match(file_name):\n",
    "                            matched_group = 'away_team_score'\n",
    "                        elif away_team_pattern.match(file_name):\n",
    "                            matched_group = 'away_team'\n",
    "                        else:\n",
    "                            # Simple string matching for other group names\n",
    "                            for group_name in group_names:\n",
    "                                if file_name.startswith(group_name + '_'):\n",
    "                                    matched_group = group_name\n",
    "                                    break\n",
    "\n",
    "                        if matched_group:\n",
    "                            file_path = os.path.join(date_folder, file_name)\n",
    "                            df = pd.read_parquet(file_path)\n",
    "                            data_frames[matched_group].append(df)\n",
    "\n",
    "    # Concatenate DataFrames in each group and save to CSV\n",
    "    grouped_data_frames = {}\n",
    "    for group, dfs in data_frames.items():\n",
    "        if dfs:  # Check if the list of DataFrames is not empty\n",
    "            concatenated_df = pd.concat(dfs, ignore_index=True)\n",
    "            grouped_data_frames[group] = concatenated_df\n",
    "            # Save DataFrame to CSV\n",
    "            csv_file_path = os.path.join(base_folder, f'{group}.csv')\n",
    "            concatenated_df.to_csv(csv_file_path, index=False)\n",
    "            print(f'Saved {group} DataFrame to {csv_file_path}')\n",
    "\n",
    "    return grouped_data_frames\n",
    "\n",
    "# Example usage\n",
    "base_folder = r'F:\\daneshkar\\project1\\extracted_rar_files'\n",
    "start_date = 20240501\n",
    "end_date = 20240531\n",
    "folders_in_row = (\n",
    "    'raw_match_parquet',\n",
    "    'raw_odds_parquet',\n",
    "    'raw_point_by_point_parquet',\n",
    "    'raw_statistics_parquet',\n",
    "    'raw_tennis_power_parquet',\n",
    "    'raw_votes_parquet'\n",
    ")\n",
    "\n",
    "grouped_data_frames = read_and_group_parquet_files(base_folder, start_date, end_date, folders_in_row)\n",
    "\n",
    "# Display the groups and their DataFrames\n",
    "for group_name, df in grouped_data_frames.items():\n",
    "    print(f'Group: {group_name}')\n",
    "    # print(df.head())  # Print the first few rows of each DataFrame\n"
   ]
  }
 ],
 "metadata": {
  "kernelspec": {
   "display_name": "Python 3",
   "language": "python",
   "name": "python3"
  },
  "language_info": {
   "codemirror_mode": {
    "name": "ipython",
    "version": 3
   },
   "file_extension": ".py",
   "mimetype": "text/x-python",
   "name": "python",
   "nbconvert_exporter": "python",
   "pygments_lexer": "ipython3",
   "version": "3.12.2"
  }
 },
 "nbformat": 4,
 "nbformat_minor": 2
}
